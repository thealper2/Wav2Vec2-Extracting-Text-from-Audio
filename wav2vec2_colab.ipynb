{
 "cells": [
  {
   "cell_type": "code",
   "execution_count": null,
   "id": "6b4adb9b-84ec-4d1b-9fb1-2ba8c9f80da2",
   "metadata": {},
   "outputs": [],
   "source": [
    "import librosa\n",
    "import pandas as pd\n",
    "import os\n",
    "import torch\n",
    "from transformers import Wav2Vec2ForCTC, Wav2Vec2Tokenizer"
   ]
  },
  {
   "cell_type": "code",
   "execution_count": null,
   "id": "565df39e-3501-4bcc-9516-13ce3b5bc24a",
   "metadata": {},
   "outputs": [],
   "source": [
    "tokenizer = Wav2Vec2Tokenizer.from_pretrained(\"facebook/wav2vec2-base-960h\")\n",
    "model = Wav2Vec2ForCTC.from_pretrained(\"facebook/wav2vec2-base-960h\")"
   ]
  },
  {
   "cell_type": "code",
   "execution_count": null,
   "id": "425b13f6-0ae6-4f9d-b856-a3c514587706",
   "metadata": {},
   "outputs": [],
   "source": [
    "df = pd.read_csv('/mnt/d/Datasets/iemocap_transactions/iemocap_audio/iemocapTrans.csv', usecols=['titre', 'to_translate'])\n",
    "df.head()"
   ]
  },
  {
   "cell_type": "code",
   "execution_count": null,
   "id": "e6e7869a-58ce-4965-bc80-90cdc3883760",
   "metadata": {},
   "outputs": [],
   "source": [
    "df['titre'] = df['titre'].apply(lambda x: '/mnt/d/Datasets/iemocap_transactions/iemocap_audio/IEMOCAP_wav/' + x + '.wav')"
   ]
  },
  {
   "cell_type": "code",
   "execution_count": null,
   "id": "80d2fd89-6493-4049-841f-6eec2327aa8f",
   "metadata": {},
   "outputs": [],
   "source": [
    "df.head()"
   ]
  },
  {
   "cell_type": "code",
   "execution_count": null,
   "id": "cb60ca66-d7ee-42e1-b826-4aa29cbdb416",
   "metadata": {},
   "outputs": [],
   "source": [
    "df.shape"
   ]
  },
  {
   "cell_type": "code",
   "execution_count": null,
   "id": "b5e2d356-2646-4e98-9bc7-6057e76a021e",
   "metadata": {},
   "outputs": [],
   "source": [
    "df = df[:50]"
   ]
  },
  {
   "cell_type": "code",
   "execution_count": null,
   "id": "864157d9-bd14-439d-afea-6d2bb811d72a",
   "metadata": {},
   "outputs": [],
   "source": [
    "def extract_text(text):\n",
    "    speech, rate = librosa.load(text, sr=16000)\n",
    "    input_values = tokenizer(speech, return_tensors=\"pt\").input_values\n",
    "    logits = model(input_values).logits\n",
    "    predicted_ids = torch.argmax(logits, dim=-1)\n",
    "    transcribe = tokenizer.decode(predicted_ids[0])\n",
    "    return transcribe"
   ]
  },
  {
   "cell_type": "code",
   "execution_count": null,
   "id": "261bd277-02c3-463a-89f0-9c85ff9be0eb",
   "metadata": {},
   "outputs": [],
   "source": [
    "df[\"Transcribed\"] = df[\"titre\"].apply(extract_text)"
   ]
  },
  {
   "cell_type": "code",
   "execution_count": null,
   "id": "a234536c-e422-4e5e-88ee-ee9946eff8c8",
   "metadata": {},
   "outputs": [],
   "source": [
    "df"
   ]
  },
  {
   "cell_type": "code",
   "execution_count": null,
   "id": "4f45c32d-b575-48ee-a570-2b4de83561a5",
   "metadata": {},
   "outputs": [],
   "source": []
  }
 ],
 "metadata": {
  "kernelspec": {
   "display_name": "Python 3 (ipykernel)",
   "language": "python",
   "name": "python3"
  },
  "language_info": {
   "codemirror_mode": {
    "name": "ipython",
    "version": 3
   },
   "file_extension": ".py",
   "mimetype": "text/x-python",
   "name": "python",
   "nbconvert_exporter": "python",
   "pygments_lexer": "ipython3",
   "version": "3.10.12"
  }
 },
 "nbformat": 4,
 "nbformat_minor": 5
}
